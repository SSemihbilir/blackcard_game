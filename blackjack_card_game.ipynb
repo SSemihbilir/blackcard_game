{
 "cells": [
  {
   "cell_type": "code",
   "execution_count": 1,
   "id": "abbbbe9f",
   "metadata": {},
   "outputs": [],
   "source": [
    "import random\n",
    "# Creation of the card class should include the following properties: Suit, Rank, Value\n",
    "\n",
    "suits = ('Hearts', 'Diamonds', 'Spades', 'Clubs')\n",
    "ranks = ('Two', 'Three', 'Four', 'Five', 'Six', 'Seven', 'Eight', 'Nine', 'Ten', 'Jack', 'Queen', 'King', 'Ace')\n",
    "values = {'Two':2,'Three':3,'Four':4,'Five':5,'Six':6,'Seven':7,'Eight':8,'Nine':9,'Ten':10,'Jack':10,\n",
    "          'Queen':10,'King':10,'Ace':11}\n",
    "playing = True"
   ]
  },
  {
   "cell_type": "code",
   "execution_count": 2,
   "id": "e7acefb8",
   "metadata": {},
   "outputs": [],
   "source": [
    "class Card():\n",
    "    def __init__(self, suit, rank):\n",
    "        self.suit = suit\n",
    "        self.rank = rank \n",
    "        \n",
    "        \n",
    "    def __str__(self):\n",
    "        return self.rank + \" of \"+ self.suit"
   ]
  },
  {
   "cell_type": "code",
   "execution_count": 3,
   "id": "0c258f1f",
   "metadata": {},
   "outputs": [],
   "source": [
    "two_hearts = Card('Hearts', 'Two')"
   ]
  },
  {
   "cell_type": "code",
   "execution_count": 4,
   "id": "1ca0a7f8",
   "metadata": {},
   "outputs": [
    {
     "data": {
      "text/plain": [
       "'Two'"
      ]
     },
     "execution_count": 4,
     "metadata": {},
     "output_type": "execute_result"
    }
   ],
   "source": [
    "two_hearts.rank"
   ]
  },
  {
   "cell_type": "code",
   "execution_count": 5,
   "id": "44989d5c",
   "metadata": {},
   "outputs": [],
   "source": [
    "# New Lecture topic starts here: Creating Deck Class \n",
    "# Vide Demonstrates how to create the deck class for the game War in python  \n",
    "# Look into a possible shuffle package in java \n",
    "\n",
    "class Deck:\n",
    "    def __init__(self):\n",
    "        self.deck = []\n",
    "        \n",
    "        for suit in suits:\n",
    "            for rank in ranks:\n",
    "                # Create the card objects \n",
    "                self.deck.append(Card(suit, rank))\n",
    "    def  __str__(self):\n",
    "        deck_comp = \"\"\n",
    "        for card in self.deck:\n",
    "            deck_comp += '\\n' + card.__str__()\n",
    "        return \"The deck has: \" + deck_comp\n",
    "    \n",
    "    def shuffle(self):\n",
    "        random.shuffle(self.deck)\n",
    "        \n",
    "    # Create a method to deal one card from the deck of cards \n",
    "    def deal(self):\n",
    "        single_card = self.deck.pop()\n",
    "        return single_card"
   ]
  },
  {
   "cell_type": "code",
   "execution_count": 6,
   "id": "c1ef4dc6",
   "metadata": {},
   "outputs": [
    {
     "name": "stdout",
     "output_type": "stream",
     "text": [
      "The deck has: \n",
      "Six of Hearts\n",
      "Three of Clubs\n",
      "Ace of Diamonds\n",
      "King of Hearts\n",
      "King of Spades\n",
      "Eight of Hearts\n",
      "Ace of Spades\n",
      "Two of Hearts\n",
      "Five of Spades\n",
      "Ten of Spades\n",
      "Nine of Diamonds\n",
      "Five of Hearts\n",
      "Eight of Diamonds\n",
      "Ten of Clubs\n",
      "Jack of Diamonds\n",
      "Ace of Hearts\n",
      "Jack of Clubs\n",
      "Five of Diamonds\n",
      "Four of Hearts\n",
      "Four of Diamonds\n",
      "Seven of Diamonds\n",
      "Nine of Hearts\n",
      "Three of Spades\n",
      "Queen of Hearts\n",
      "Four of Clubs\n",
      "Ten of Diamonds\n",
      "Six of Clubs\n",
      "Queen of Clubs\n",
      "Seven of Hearts\n",
      "Three of Hearts\n",
      "Queen of Diamonds\n",
      "Six of Spades\n",
      "Six of Diamonds\n",
      "Nine of Spades\n",
      "Ten of Hearts\n",
      "Jack of Hearts\n",
      "Queen of Spades\n",
      "Seven of Clubs\n",
      "King of Clubs\n",
      "Nine of Clubs\n",
      "Two of Spades\n",
      "Jack of Spades\n",
      "Eight of Spades\n",
      "Two of Diamonds\n",
      "Four of Spades\n",
      "King of Diamonds\n",
      "Three of Diamonds\n",
      "Eight of Clubs\n",
      "Five of Clubs\n",
      "Ace of Clubs\n",
      "Two of Clubs\n",
      "Seven of Spades\n"
     ]
    }
   ],
   "source": [
    "test_deck = Deck()\n",
    "test_deck.shuffle()\n",
    "print(test_deck)"
   ]
  },
  {
   "cell_type": "code",
   "execution_count": 7,
   "id": "ca613b49",
   "metadata": {},
   "outputs": [],
   "source": [
    "class Hand:\n",
    "    def __init__(self):\n",
    "        self.cards = []\n",
    "        self.value= 0\n",
    "        self.aces = 0 \n",
    "    def add_card(self,card):\n",
    "        # card passed in\n",
    "        # from DEck.Deal()--> single Card(suit,rank)\n",
    "        self.cards.append(card)\n",
    "        self.value += values[card.rank]\n",
    "        \n",
    "        if card.rank == \"Ace\":\n",
    "            self.aces += 1\n",
    "                    \n",
    "    def adjust_for_ace(self):\n",
    "        #If i have bigger than > 21 and have at least one aces\n",
    "        #Than change my ace to be a 1 instead of 11\n",
    "        while self.value > 21 and self.aces:\n",
    "            self.value -= 10\n",
    "            self.aces -= 1\n",
    "        \n",
    "        "
   ]
  },
  {
   "cell_type": "code",
   "execution_count": 8,
   "id": "af4df681",
   "metadata": {},
   "outputs": [
    {
     "name": "stdout",
     "output_type": "stream",
     "text": [
      "Six of Hearts\n",
      "6\n"
     ]
    }
   ],
   "source": [
    "test_deck = Deck()\n",
    "test_deck.shuffle()\n",
    "\n",
    "test_player = Hand()\n",
    "pulled_card = test_deck.deal()\n",
    "print(pulled_card)\n",
    "test_player.add_card(pulled_card)\n",
    "print(test_player.value)"
   ]
  },
  {
   "cell_type": "code",
   "execution_count": 9,
   "id": "17d3acbb",
   "metadata": {},
   "outputs": [],
   "source": [
    "test_player.add_card(test_deck.deal())"
   ]
  },
  {
   "cell_type": "code",
   "execution_count": 10,
   "id": "3f423b82",
   "metadata": {},
   "outputs": [
    {
     "data": {
      "text/plain": [
       "16"
      ]
     },
     "execution_count": 10,
     "metadata": {},
     "output_type": "execute_result"
    }
   ],
   "source": [
    "test_player.value"
   ]
  },
  {
   "cell_type": "code",
   "execution_count": 11,
   "id": "66679308",
   "metadata": {},
   "outputs": [],
   "source": [
    "class Chips:\n",
    "    def __init__(self,total=100):\n",
    "        self.total = total #This can set to a default value or supplied by a user input\n",
    "        self.bet = 0 #from now on bet number\n",
    "    \n",
    "    def win_bet(self):\n",
    "        self.total += self.bet\n",
    "    \n",
    "    def lose_bet(self):\n",
    "        self.total -= self.bet \n",
    "    "
   ]
  },
  {
   "cell_type": "code",
   "execution_count": 12,
   "id": "119e8d59",
   "metadata": {},
   "outputs": [],
   "source": [
    "def take_bet(chips):\n",
    "    \n",
    "    while True:\n",
    "        try:\n",
    "            chips.bet = int(input(\"How many chips would you like to bet? \"))\n",
    "        except:\n",
    "            print(\"Sorry, a bet must be an integer\")\n",
    "        else:\n",
    "            if chips.bet > chips.total:\n",
    "                print(\"Sorry, your bet cant'be exceed\",chips.total)\n",
    "            else: \n",
    "                break"
   ]
  },
  {
   "cell_type": "code",
   "execution_count": 13,
   "id": "fb795a7f",
   "metadata": {},
   "outputs": [],
   "source": [
    "def hit(deck,hand):\n",
    "    hand.add_card(deck.deal())\n",
    "    hand.adjust_for_ace()"
   ]
  },
  {
   "cell_type": "code",
   "execution_count": 14,
   "id": "e2bd8137",
   "metadata": {},
   "outputs": [],
   "source": [
    "def hit_or_stand(deck,hand):\n",
    "    global playing  # to control an upcoming while loop\n",
    "    \n",
    "    while True:\n",
    "        x = input(\"Would you like to Hit or Stand? Enter 'h' or 's' \")\n",
    "        \n",
    "        if x[0].lower() == 'h':\n",
    "            hit(deck,hand)  # hit() function defined above\n",
    "\n",
    "        elif x[0].lower() == 's':\n",
    "            print(\"Player stands. Dealer is playing.\")\n",
    "            playing = False\n",
    "\n",
    "        else:\n",
    "            print(\"Sorry, please try again.\")\n",
    "            continue\n",
    "        break"
   ]
  },
  {
   "cell_type": "code",
   "execution_count": 15,
   "id": "42789e8e",
   "metadata": {},
   "outputs": [],
   "source": [
    "def show_some(dealer,player):\n",
    "    #dealer.cards[1] is shown\n",
    "    #first dealer card is hidden\n",
    "    #second dealer card shown\n",
    "    print(\"\\ Dealer's Hand :\")\n",
    "    print(\"First card hidden!\")\n",
    "    print(dealer.cards[1])\n",
    "    #player two cards are shown\n",
    "    print(\"\\n Player's hand: \",*player.cards,sep=\"\\n\")\n",
    "    \n",
    "    \n",
    "def show_all(dealer,player):\n",
    "    \n",
    "    #show all the dealer's cards\n",
    "    print(\"\\n Dealer's hand: \",*dealer.cards,sep=\"\\n\")\n",
    "    \n",
    "    #calculate and display the value (J+K == 20)\n",
    "    print(f\"Value of Dealer's hand is : {dealer.value}\")\n",
    "    \n",
    "    #show all the player's cards\n",
    "    print(\"\\n Player's hand: \",*player.cards,sep=\"\\n\")\n",
    "    print(f\"Value of Player's hand is : {player.value}\")"
   ]
  },
  {
   "cell_type": "code",
   "execution_count": 16,
   "id": "e653879f",
   "metadata": {},
   "outputs": [],
   "source": [
    "def player_busts(player,dealer,chips):\n",
    "    print(\"BUST PLAYER!\")\n",
    "    chips.lose_bet()\n",
    "\n",
    "def player_wins(player,dealer,chips):\n",
    "    print(\"PLAYER WINS!\")\n",
    "    chips.win_bet()\n",
    "    \n",
    "def dealer_busts(player,dealer,chips):\n",
    "    print(\"PLAYER WINS! DEALER BUSTED!\")\n",
    "    chips.win_bet()\n",
    "    \n",
    "def dealer_wins(player,dealer,chips):\n",
    "    print(\"DEALER WINS! PLAYER BUSTED!\")\n",
    "    chips.lose_bet()\n",
    "    \n",
    "def push(player,dealer):\n",
    "    print(\"Dealer and Player tie! PUSH\")\n",
    "    "
   ]
  },
  {
   "cell_type": "code",
   "execution_count": 17,
   "id": "28d4fde1",
   "metadata": {},
   "outputs": [
    {
     "name": "stdout",
     "output_type": "stream",
     "text": [
      "Welcome to BALCKJACK\n",
      "How many chips would you like to bet? 100\n",
      "\\ Dealer's Hand :\n",
      "First card hidden!\n",
      "Four of Hearts\n",
      "\n",
      " Player's hand: \n",
      "King of Hearts\n",
      "Ten of Diamonds\n",
      "Would you like to Hit or Stand? Enter 'h' or 's' h\n",
      "\\ Dealer's Hand :\n",
      "First card hidden!\n",
      "Four of Hearts\n",
      "\n",
      " Player's hand: \n",
      "King of Hearts\n",
      "Ten of Diamonds\n",
      "Would you like to Hit or Stand? Enter 'h' or 's' s\n",
      "Player stands. Dealer is playing.\n",
      "\\ Dealer's Hand :\n",
      "First card hidden!\n",
      "Four of Hearts\n",
      "\n",
      " Player's hand: \n",
      "King of Hearts\n",
      "Ten of Diamonds\n",
      "\n",
      " Dealer's hand: \n",
      "King of Spades\n",
      "Four of Hearts\n",
      "Two of Hearts\n",
      "Value of Dealer's hand is : 16\n",
      "\n",
      " Player's hand: \n",
      "King of Hearts\n",
      "Ten of Diamonds\n",
      "Value of Player's hand is : 20\n",
      "DEALER WINS! PLAYER BUSTED!\n",
      "\n",
      "Player's winnings stand at 0\n",
      "would you like to play another hand ? Enter y or n n\n",
      "Thanks for playing!\n"
     ]
    }
   ],
   "source": [
    "while True:\n",
    "    # Print an opening statement\n",
    "    print(\"Welcome to BALCKJACK\")\n",
    "    # Create & shuffle the deck , deal two cards to each player \n",
    "    deck = Deck()\n",
    "    deck.shuffle()\n",
    "    \n",
    "    player_hand = Hand()\n",
    "    player_hand.add_card(deck.deal())\n",
    "    player_hand.add_card(deck.deal())\n",
    "    \n",
    "    \n",
    "    dealer_hand = Hand()\n",
    "    dealer_hand.add_card(deck.deal())\n",
    "    dealer_hand.add_card(deck.deal())\n",
    "    \n",
    "    #Set up a player chips\n",
    "    player_chips = Chips()\n",
    "    \n",
    "    #Prompt the player for their bet \n",
    "    take_bet(player_chips)\n",
    "    \n",
    "    #Show cards(but keep one dealer card hidden)\n",
    "    show_some(player_hand,dealer_hand)\n",
    "    \n",
    "    while playing: # recall this variable from our hit_or_stand function\n",
    "        \n",
    "        #prompt for  player to hit or stand\n",
    "        hit_or_stand(deck,player_hand)\n",
    "        \n",
    "        #Show cards (but keep one dealer card hidden)\n",
    "        show_some(player_hand,dealer_hand)\n",
    "        \n",
    "        #if player's hand exceeds 21, run player_busts() and break out of loop\n",
    "        if player_hand.value > 21:\n",
    "            player_busts(player_hand,dealer_hand,player_chips)\n",
    "            break\n",
    "            \n",
    "            \n",
    "   #if player hasn't busted, play Dealer's hand until Dealer reaches 17\n",
    "    if player_hand.value <= 21:\n",
    "        while dealer_hand.value < 17:\n",
    "            hit(deck,dealer_hand)\n",
    "        #Show all cards \n",
    "        show_all(player_hand,dealer_hand)\n",
    "        \n",
    "        #run diffrent winning scenarios\n",
    "        if dealer_hand.value > 21:\n",
    "            dealer_busts(player_hand,dealer_hand,player_chips)\n",
    "        \n",
    "        elif dealer_hand.value > player_hand.value:\n",
    "            dealer_wins(player_hand,dealer_hand,player_chips)\n",
    "            \n",
    "        elif dealer_hand.value < player_hand.value:\n",
    "            player_wins(player_hand,dealer_hand,player_chips)\n",
    "            \n",
    "        else:\n",
    "            push(player_hand,dealer_hand)\n",
    "    #inform player of their chips total\n",
    "    print(\"\\nPlayer's winnings stand at\",player_chips.total)\n",
    "    \n",
    "    # Ask to play again\n",
    "    new_game = input(\"would you like to play another hand ? Enter y or n \")\n",
    "    \n",
    "    if new_game[0].lower() == \"y\":\n",
    "        playing = True\n",
    "        continue\n",
    "    else:\n",
    "        print(\"Thanks for playing!\")\n",
    "        break\n",
    "        "
   ]
  },
  {
   "cell_type": "code",
   "execution_count": null,
   "id": "3ed0519c",
   "metadata": {},
   "outputs": [],
   "source": []
  }
 ],
 "metadata": {
  "kernelspec": {
   "display_name": "Python 3 (ipykernel)",
   "language": "python",
   "name": "python3"
  },
  "language_info": {
   "codemirror_mode": {
    "name": "ipython",
    "version": 3
   },
   "file_extension": ".py",
   "mimetype": "text/x-python",
   "name": "python",
   "nbconvert_exporter": "python",
   "pygments_lexer": "ipython3",
   "version": "3.8.9"
  }
 },
 "nbformat": 4,
 "nbformat_minor": 5
}
